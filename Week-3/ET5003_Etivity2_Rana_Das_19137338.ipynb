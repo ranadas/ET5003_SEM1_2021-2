{
 "cells": [
  {
   "cell_type": "markdown",
   "metadata": {
    "id": "930vlW5BrOtq"
   },
   "source": [
    "<div>\n",
    "<img src=\"https://drive.google.com/uc?export=view&id=1vK33e_EqaHgBHcbRV_m38hx6IkG0blK_\" width=\"350\"/>\n",
    "</div> \n",
    "\n",
    "#**Artificial Intelligence - MSc**\n",
    "##ET5003 - MACHINE LEARNING APPLICATIONS \n",
    "\n",
    "###Instructor: Enrique Naredo\n",
    "###ET5003_Etivity-2"
   ]
  },
  {
   "cell_type": "code",
   "execution_count": 1,
   "metadata": {
    "cellView": "form",
    "id": "LqXD_IwUQuBF",
    "scrolled": true
   },
   "outputs": [],
   "source": [
    "#@title Current Date\n",
    "Today = '2021-09-25' #@param {type:\"date\"}"
   ]
  },
  {
   "cell_type": "code",
   "execution_count": 2,
   "metadata": {
    "id": "uzDKau31OjVO",
    "scrolled": true
   },
   "outputs": [],
   "source": [
    "#@markdown ---\n",
    "#@markdown ### Enter your details here:\n",
    "Student_ID = \"19137338\" #@param {type:\"string\"}\n",
    "Student_full_name = \"Rana Das\" #@param {type:\"string\"}\n",
    "#@markdown ---"
   ]
  },
  {
   "cell_type": "code",
   "execution_count": 3,
   "metadata": {
    "id": "r39xGZckTpKx",
    "scrolled": true
   },
   "outputs": [],
   "source": [
    "#@title Notebook information\n",
    "Notebook_type = 'Etivity' #@param [\"Example\", \"Lab\", \"Practice\", \"Etivity\", \"Assignment\", \"Exam\"]\n",
    "Version = \"Draft\" #@param [\"Draft\", \"Final\"] {type:\"raw\"}\n",
    "Submission = False #@param {type:\"boolean\"}"
   ]
  },
  {
   "cell_type": "markdown",
   "metadata": {
    "id": "_A0Z6S-r6DpA"
   },
   "source": [
    "# INTRODUCTION"
   ]
  },
  {
   "cell_type": "markdown",
   "metadata": {
    "id": "QkRchZtf6IV-"
   },
   "source": [
    "**Piecewise regression**, extract from [Wikipedia](https://en.wikipedia.org/wiki/Segmented_regression):\n",
    "\n",
    "Segmented regression, also known as piecewise regression or broken-stick regression, is a method in regression analysis in which the independent variable is partitioned into intervals and a separate line segment is fit to each interval. \n",
    "\n",
    "* Segmented regression analysis can also be performed on \n",
    "multivariate data by partitioning the various independent variables. \n",
    "* Segmented regression is useful when the independent variables, clustered into different groups, exhibit different relationships between the variables in these regions. \n",
    "\n",
    "* The boundaries between the segments are breakpoints.\n",
    "\n",
    "* Segmented linear regression is segmented regression whereby the relations in the intervals are obtained by linear regression. "
   ]
  },
  {
   "cell_type": "markdown",
   "metadata": {
    "id": "aajlS0WCJ8pm"
   },
   "source": [
    "***The goal is to use advanced Machine Learning methods to predict House price.***"
   ]
  },
  {
   "cell_type": "markdown",
   "metadata": {
    "id": "Wg7VCbX77eAA"
   },
   "source": [
    "## Imports"
   ]
  },
  {
   "cell_type": "code",
   "execution_count": 4,
   "metadata": {
    "id": "d1770_fNrCWn",
    "scrolled": true
   },
   "outputs": [],
   "source": [
    "# Suppressing Warnings:\n",
    "import warnings\n",
    "warnings.filterwarnings(\"ignore\")\n",
    "\n",
    "import pandas as pd\n",
    "\n",
    "# to create data frames\n",
    "from pandas import DataFrame\n",
    "\n",
    "import numpy as np\n",
    "# for Bayesian statistical modeling and probabilistic ML\n",
    "import pymc3 as pm\n",
    "# for exploratory analysis of Bayesian models\n",
    "import arviz as az\n",
    "\n",
    "# to plot\n",
    "import matplotlib.pyplot as plt\n",
    "import matplotlib.colors\n",
    "from mpl_toolkits.mplot3d import Axes3D\n",
    "import seaborn as sns\n",
    "\n",
    "#for Standardization of dataset\n",
    "from sklearn.preprocessing import StandardScaler\n",
    "from sklearn.model_selection import train_test_split\n",
    "\n",
    "# to generate classification, regression and clustering datasets\n",
    "import sklearn.datasets as dt\n",
    "\n",
    "# to generate data from an existing dataset\n",
    "from sklearn.neighbors import KernelDensity\n",
    "from sklearn.model_selection import GridSearchCV"
   ]
  },
  {
   "cell_type": "code",
   "execution_count": 5,
   "metadata": {
    "id": "6MUJdlxSPSMM",
    "scrolled": true
   },
   "outputs": [],
   "source": [
    "# Define the seed so that results can be reproduced\n",
    "seed = 11\n",
    "rand_state = 11\n",
    "\n",
    "# Define the color maps for plots\n",
    "color_map = plt.cm.get_cmap('RdYlBu')\n",
    "color_map_discrete = matplotlib.colors.LinearSegmentedColormap.from_list(\"\", [\"red\",\"cyan\",\"magenta\",\"blue\"])"
   ]
  },
  {
   "cell_type": "code",
   "execution_count": 6,
   "metadata": {
    "scrolled": true
   },
   "outputs": [],
   "source": [
    "def plot_box_hist(dframe, features):\n",
    "    '''Function to plot Box / Histogram pair for any feature'''\n",
    "    no_feats = len(features)\n",
    "  \n",
    "    figH = plt.figure(figsize=(30,no_feats*5))\n",
    "\n",
    "    for i in range(0, no_feats): \n",
    "        ax1 = figH.add_subplot(no_feats, 2, (i*2)+1)\n",
    "        ax1.set_title(\"Boxplot of \"+features[i])\n",
    "        dframe.boxplot(column=[features[i]])\n",
    "\n",
    "        ax2 = figH.add_subplot(no_feats, 2, (i*2)+2)\n",
    "        ax2.set_title(\"Histogram of \"+features[i])\n",
    "        dframe[features[i]].hist(bins=20)\n",
    "\n",
    "    plt.show()"
   ]
  },
  {
   "cell_type": "code",
   "execution_count": 7,
   "metadata": {
    "scrolled": true
   },
   "outputs": [],
   "source": [
    "def remove_outliers(dframe, feature):\n",
    "    '''Function to Detect and Remove Outliers'''\n",
    "  \n",
    "    #define a list to accumlate anomalies\n",
    "    anomalies = []\n",
    "    \n",
    "    # Set upper and lower limit to 3 standard deviation\n",
    "    random_data_std = np.std(dframe[feature])\n",
    "    random_data_mean = np.mean(dframe[feature])\n",
    "    anomaly_cut_off = random_data_std * 3\n",
    "    \n",
    "    lower_limit  = random_data_mean - anomaly_cut_off \n",
    "    upper_limit = random_data_mean + anomaly_cut_off\n",
    "    \n",
    "    dframe = dframe.drop(dframe[(dframe[feature] < lower_limit) | (dframe[feature] > upper_limit)].index)\n",
    "\n",
    "    return dframe"
   ]
  },
  {
   "cell_type": "markdown",
   "metadata": {
    "id": "WL91ShB19RPw"
   },
   "source": [
    "# DATASET"
   ]
  },
  {
   "cell_type": "markdown",
   "metadata": {
    "id": "ESg5DGKWJSOf"
   },
   "source": [
    "Extract from this [paper](https://ieeexplore.ieee.org/document/9300074):\n",
    "\n",
    "* House prices are a significant impression of the economy, and its value ranges are of great concerns for the clients and property dealers. \n",
    "\n",
    "* Housing price escalate every year that eventually reinforced the need of strategy or technique that could predict house prices in future. \n",
    "\n",
    "* There are certain factors that influence house prices including physical conditions, locations, number of bedrooms and others.\n"
   ]
  },
  {
   "cell_type": "markdown",
   "metadata": {
    "id": "a8Y2pf50FlYL"
   },
   "source": [
    "1. [Download the dataset](https://github.com/UL-ET5003/ET5003_SEM1_2021-2/tree/main/Week-3). \n",
    "\n",
    "2. Upload the dataset into your folder.\n",
    "\n"
   ]
  },
  {
   "cell_type": "markdown",
   "metadata": {
    "id": "FMkdCQEmKTof"
   },
   "source": [
    "The challenge is to predict the final price of each house."
   ]
  },
  {
   "cell_type": "markdown",
   "metadata": {
    "id": "k6dDdCbmYvaX"
   },
   "source": [
    "### Loading Data"
   ]
  },
  {
   "cell_type": "code",
   "execution_count": 8,
   "metadata": {
    "colab": {
     "base_uri": "https://localhost:8080/"
    },
    "id": "bm9e8Ywra8wU",
    "outputId": "45243bdb-141c-4180-aa6c-44324bbabaf2",
    "scrolled": true
   },
   "outputs": [],
   "source": [
    "# Checking if using Google Colab (courtesy of Nigel Portley and  Michael McKegney).\n",
    "RunningInCOLAB = 'google.colab' in str(get_ipython())\n",
    "\n",
    "if RunningInCOLAB:\n",
    "    from google.colab import drive\n",
    "    drive.mount('/content/drive')\n",
    "    \n",
    "    # paste the path here, keep quotation marks and the trailing slash\n",
    "    Path = '/content/drive/MyDrive/Colab Notebooks/ET5003/e-tivity-2/'\n",
    "else:\n",
    "    Path = './'"
   ]
  },
  {
   "cell_type": "code",
   "execution_count": 9,
   "metadata": {
    "id": "bbuqCoAYYuVP",
    "scrolled": true
   },
   "outputs": [],
   "source": [
    "# House Data\n",
    "train_data = Path + 'house_train.csv'\n",
    "test_data = Path + 'house_test.csv'\n",
    "cost_data = Path + 'true_price.csv'\n",
    "\n",
    "# train data\n",
    "df_train = pd.read_csv(train_data)\n",
    "\n",
    "# test data\n",
    "df_test = pd.read_csv(test_data)\n",
    "\n",
    "# test data\n",
    "df_cost = pd.read_csv(cost_data)"
   ]
  },
  {
   "cell_type": "markdown",
   "metadata": {
    "id": "C4KdijM0wJvc"
   },
   "source": [
    "## Exploratory Data Analysis\n",
    "\n",
    "Exploratory Data Analysis is an approach for Data Analysis that employs a variety of techniques to-\n",
    "\n",
    "\n",
    "*   Gain intuition about the data.\n",
    "*   Conduct sanity checks. (To be sure that insights we are drawing are actually from the right dataset).\n",
    "*    Find out where data is missing.\n",
    "*    Check if there are any outliers.\n",
    "*    Summarize the data.\n",
    "\n",
    "### Steps in Exploratory Data Analysis\n",
    "<img src = \"https://cdn.analyticsvidhya.com/wp-content/uploads/2020/10/image7-5.png\"/>\n"
   ]
  },
  {
   "cell_type": "markdown",
   "metadata": {
    "id": "8wLCKJOeHrLq"
   },
   "source": [
    "# Examination -- EDA"
   ]
  },
  {
   "cell_type": "markdown",
   "metadata": {
    "id": "brxwPmdKQuyr"
   },
   "source": [
    "## 1. House Data\n",
    "\n",
    "We examine house *Train* and *Test* Dataset from *house_train.csv* & *house_test.csv* resp."
   ]
  },
  {
   "cell_type": "markdown",
   "metadata": {
    "id": "RvwayJCMQfb7"
   },
   "source": [
    "### 1.1 Variable Identification"
   ]
  },
  {
   "cell_type": "code",
   "execution_count": 10,
   "metadata": {
    "id": "_YKQ6peoRNMz",
    "scrolled": true
   },
   "outputs": [
    {
     "name": "stdout",
     "output_type": "stream",
     "text": [
      "Shape of Training Data :  (2982, 17)\n",
      "Shape of Test Data :  (500, 16)\n",
      "Train Data Columns Index(['ad_id', 'area', 'bathrooms', 'beds', 'ber_classification', 'county',\n",
      "       'description_block', 'environment', 'facility', 'features', 'latitude',\n",
      "       'longitude', 'no_of_units', 'price', 'property_category',\n",
      "       'property_type', 'surface'],\n",
      "      dtype='object')\n",
      "Test Data Columns Index(['ad_id', 'area', 'bathrooms', 'beds', 'ber_classification', 'county',\n",
      "       'description_block', 'environment', 'facility', 'features', 'latitude',\n",
      "       'longitude', 'no_of_units', 'property_category', 'property_type',\n",
      "       'surface'],\n",
      "      dtype='object')\n",
      "<class 'pandas.core.frame.DataFrame'>\n",
      "RangeIndex: 2982 entries, 0 to 2981\n",
      "Data columns (total 17 columns):\n",
      "ad_id                 2982 non-null int64\n",
      "area                  2982 non-null object\n",
      "bathrooms             2931 non-null float64\n",
      "beds                  2931 non-null float64\n",
      "ber_classification    2305 non-null object\n",
      "county                2982 non-null object\n",
      "description_block     2982 non-null object\n",
      "environment           2982 non-null object\n",
      "facility              965 non-null object\n",
      "features              2982 non-null object\n",
      "latitude              2982 non-null float64\n",
      "longitude             2982 non-null float64\n",
      "no_of_units           59 non-null float64\n",
      "price                 2892 non-null float64\n",
      "property_category     2982 non-null object\n",
      "property_type         2931 non-null object\n",
      "surface               2431 non-null float64\n",
      "dtypes: float64(7), int64(1), object(9)\n",
      "memory usage: 396.1+ KB\n",
      "None\n",
      "<class 'pandas.core.frame.DataFrame'>\n",
      "RangeIndex: 500 entries, 0 to 499\n",
      "Data columns (total 16 columns):\n",
      "ad_id                 500 non-null int64\n",
      "area                  500 non-null object\n",
      "bathrooms             500 non-null float64\n",
      "beds                  500 non-null float64\n",
      "ber_classification    444 non-null object\n",
      "county                500 non-null object\n",
      "description_block     500 non-null object\n",
      "environment           500 non-null object\n",
      "facility              189 non-null object\n",
      "features              500 non-null object\n",
      "latitude              500 non-null float64\n",
      "longitude             500 non-null float64\n",
      "no_of_units           0 non-null float64\n",
      "property_category     500 non-null object\n",
      "property_type         500 non-null object\n",
      "surface               500 non-null float64\n",
      "dtypes: float64(6), int64(1), object(9)\n",
      "memory usage: 62.6+ KB\n",
      "None\n"
     ]
    }
   ],
   "source": [
    "print('Shape of Training Data : ', df_train.shape)\n",
    "print('Shape of Test Data : ', df_test.shape)\n",
    "\n",
    "print('Train Data Columns',df_train.columns)\n",
    "print('Test Data Columns',df_test.columns)\n",
    "\n",
    "print(df_train.info())\n",
    "print(df_test.info())"
   ]
  },
  {
   "cell_type": "code",
   "execution_count": 11,
   "metadata": {
    "scrolled": true
   },
   "outputs": [
    {
     "data": {
      "text/html": [
       "<div>\n",
       "<style scoped>\n",
       "    .dataframe tbody tr th:only-of-type {\n",
       "        vertical-align: middle;\n",
       "    }\n",
       "\n",
       "    .dataframe tbody tr th {\n",
       "        vertical-align: top;\n",
       "    }\n",
       "\n",
       "    .dataframe thead th {\n",
       "        text-align: right;\n",
       "    }\n",
       "</style>\n",
       "<table border=\"1\" class=\"dataframe\">\n",
       "  <thead>\n",
       "    <tr style=\"text-align: right;\">\n",
       "      <th></th>\n",
       "      <th>ad_id</th>\n",
       "      <th>area</th>\n",
       "      <th>bathrooms</th>\n",
       "      <th>beds</th>\n",
       "      <th>ber_classification</th>\n",
       "      <th>county</th>\n",
       "      <th>description_block</th>\n",
       "      <th>environment</th>\n",
       "      <th>facility</th>\n",
       "      <th>features</th>\n",
       "      <th>latitude</th>\n",
       "      <th>longitude</th>\n",
       "      <th>no_of_units</th>\n",
       "      <th>price</th>\n",
       "      <th>property_category</th>\n",
       "      <th>property_type</th>\n",
       "      <th>surface</th>\n",
       "    </tr>\n",
       "  </thead>\n",
       "  <tbody>\n",
       "    <tr>\n",
       "      <th>0</th>\n",
       "      <td>996887</td>\n",
       "      <td>Portmarnock</td>\n",
       "      <td>NaN</td>\n",
       "      <td>NaN</td>\n",
       "      <td>NaN</td>\n",
       "      <td>Dublin</td>\n",
       "      <td>A SELECTION OF 4 AND 5 BEDROOM FAMILY HOMES LO...</td>\n",
       "      <td>prod</td>\n",
       "      <td>NaN</td>\n",
       "      <td>None</td>\n",
       "      <td>53.418216</td>\n",
       "      <td>-6.149329</td>\n",
       "      <td>18.0</td>\n",
       "      <td>NaN</td>\n",
       "      <td>new_development_parent</td>\n",
       "      <td>NaN</td>\n",
       "      <td>NaN</td>\n",
       "    </tr>\n",
       "    <tr>\n",
       "      <th>1</th>\n",
       "      <td>999327</td>\n",
       "      <td>Lucan</td>\n",
       "      <td>NaN</td>\n",
       "      <td>NaN</td>\n",
       "      <td>NaN</td>\n",
       "      <td>Dublin</td>\n",
       "      <td>**Last 2 remaining houses for sale ***\\n\\nOn v...</td>\n",
       "      <td>prod</td>\n",
       "      <td>NaN</td>\n",
       "      <td>None</td>\n",
       "      <td>53.364917</td>\n",
       "      <td>-6.454935</td>\n",
       "      <td>3.0</td>\n",
       "      <td>NaN</td>\n",
       "      <td>new_development_parent</td>\n",
       "      <td>NaN</td>\n",
       "      <td>NaN</td>\n",
       "    </tr>\n",
       "    <tr>\n",
       "      <th>2</th>\n",
       "      <td>999559</td>\n",
       "      <td>Rathfarnham</td>\n",
       "      <td>NaN</td>\n",
       "      <td>NaN</td>\n",
       "      <td>NaN</td>\n",
       "      <td>Dublin</td>\n",
       "      <td>Final 4 &amp;amp; 5 Bedroom Homes for Sale\\n\\nOn V...</td>\n",
       "      <td>prod</td>\n",
       "      <td>NaN</td>\n",
       "      <td>None</td>\n",
       "      <td>53.273447</td>\n",
       "      <td>-6.313821</td>\n",
       "      <td>3.0</td>\n",
       "      <td>NaN</td>\n",
       "      <td>new_development_parent</td>\n",
       "      <td>NaN</td>\n",
       "      <td>NaN</td>\n",
       "    </tr>\n",
       "    <tr>\n",
       "      <th>3</th>\n",
       "      <td>9102986</td>\n",
       "      <td>Balbriggan</td>\n",
       "      <td>NaN</td>\n",
       "      <td>NaN</td>\n",
       "      <td>NaN</td>\n",
       "      <td>Dublin</td>\n",
       "      <td>Glenveagh Taylor Hill, Balbriggan\\n\\r\\n*Ideal ...</td>\n",
       "      <td>prod</td>\n",
       "      <td>NaN</td>\n",
       "      <td>None</td>\n",
       "      <td>53.608167</td>\n",
       "      <td>-6.210914</td>\n",
       "      <td>30.0</td>\n",
       "      <td>NaN</td>\n",
       "      <td>new_development_parent</td>\n",
       "      <td>NaN</td>\n",
       "      <td>NaN</td>\n",
       "    </tr>\n",
       "    <tr>\n",
       "      <th>4</th>\n",
       "      <td>9106028</td>\n",
       "      <td>Foxrock</td>\n",
       "      <td>NaN</td>\n",
       "      <td>NaN</td>\n",
       "      <td>NaN</td>\n",
       "      <td>Dublin</td>\n",
       "      <td>*New phase launching this weekend Sat &amp;amp; Su...</td>\n",
       "      <td>prod</td>\n",
       "      <td>NaN</td>\n",
       "      <td>None</td>\n",
       "      <td>53.262531</td>\n",
       "      <td>-6.181527</td>\n",
       "      <td>8.0</td>\n",
       "      <td>NaN</td>\n",
       "      <td>new_development_parent</td>\n",
       "      <td>NaN</td>\n",
       "      <td>NaN</td>\n",
       "    </tr>\n",
       "  </tbody>\n",
       "</table>\n",
       "</div>"
      ],
      "text/plain": [
       "     ad_id         area  bathrooms  beds ber_classification  county  \\\n",
       "0   996887  Portmarnock        NaN   NaN                NaN  Dublin   \n",
       "1   999327        Lucan        NaN   NaN                NaN  Dublin   \n",
       "2   999559  Rathfarnham        NaN   NaN                NaN  Dublin   \n",
       "3  9102986   Balbriggan        NaN   NaN                NaN  Dublin   \n",
       "4  9106028      Foxrock        NaN   NaN                NaN  Dublin   \n",
       "\n",
       "                                   description_block environment facility  \\\n",
       "0  A SELECTION OF 4 AND 5 BEDROOM FAMILY HOMES LO...        prod      NaN   \n",
       "1  **Last 2 remaining houses for sale ***\\n\\nOn v...        prod      NaN   \n",
       "2  Final 4 &amp; 5 Bedroom Homes for Sale\\n\\nOn V...        prod      NaN   \n",
       "3  Glenveagh Taylor Hill, Balbriggan\\n\\r\\n*Ideal ...        prod      NaN   \n",
       "4  *New phase launching this weekend Sat &amp; Su...        prod      NaN   \n",
       "\n",
       "  features   latitude  longitude  no_of_units  price       property_category  \\\n",
       "0     None  53.418216  -6.149329         18.0    NaN  new_development_parent   \n",
       "1     None  53.364917  -6.454935          3.0    NaN  new_development_parent   \n",
       "2     None  53.273447  -6.313821          3.0    NaN  new_development_parent   \n",
       "3     None  53.608167  -6.210914         30.0    NaN  new_development_parent   \n",
       "4     None  53.262531  -6.181527          8.0    NaN  new_development_parent   \n",
       "\n",
       "  property_type  surface  \n",
       "0           NaN      NaN  \n",
       "1           NaN      NaN  \n",
       "2           NaN      NaN  \n",
       "3           NaN      NaN  \n",
       "4           NaN      NaN  "
      ]
     },
     "execution_count": 11,
     "metadata": {},
     "output_type": "execute_result"
    }
   ],
   "source": [
    "df_train.head()"
   ]
  },
  {
   "cell_type": "code",
   "execution_count": 12,
   "metadata": {
    "scrolled": true
   },
   "outputs": [
    {
     "data": {
      "text/html": [
       "<div>\n",
       "<style scoped>\n",
       "    .dataframe tbody tr th:only-of-type {\n",
       "        vertical-align: middle;\n",
       "    }\n",
       "\n",
       "    .dataframe tbody tr th {\n",
       "        vertical-align: top;\n",
       "    }\n",
       "\n",
       "    .dataframe thead th {\n",
       "        text-align: right;\n",
       "    }\n",
       "</style>\n",
       "<table border=\"1\" class=\"dataframe\">\n",
       "  <thead>\n",
       "    <tr style=\"text-align: right;\">\n",
       "      <th></th>\n",
       "      <th>ad_id</th>\n",
       "      <th>area</th>\n",
       "      <th>bathrooms</th>\n",
       "      <th>beds</th>\n",
       "      <th>ber_classification</th>\n",
       "      <th>county</th>\n",
       "      <th>description_block</th>\n",
       "      <th>environment</th>\n",
       "      <th>facility</th>\n",
       "      <th>features</th>\n",
       "      <th>latitude</th>\n",
       "      <th>longitude</th>\n",
       "      <th>no_of_units</th>\n",
       "      <th>price</th>\n",
       "      <th>property_category</th>\n",
       "      <th>property_type</th>\n",
       "      <th>surface</th>\n",
       "    </tr>\n",
       "  </thead>\n",
       "  <tbody>\n",
       "    <tr>\n",
       "      <th>2977</th>\n",
       "      <td>12428232</td>\n",
       "      <td>Ballsbridge</td>\n",
       "      <td>2.0</td>\n",
       "      <td>2.0</td>\n",
       "      <td>C3</td>\n",
       "      <td>Dublin</td>\n",
       "      <td>Sherry FitzGerald are delighted to present Apa...</td>\n",
       "      <td>prod</td>\n",
       "      <td>NaN</td>\n",
       "      <td>Prime Location\\nManagement Co: Core Property M...</td>\n",
       "      <td>53.338738</td>\n",
       "      <td>-6.237199</td>\n",
       "      <td>NaN</td>\n",
       "      <td>415000.0</td>\n",
       "      <td>sale</td>\n",
       "      <td>apartment</td>\n",
       "      <td>56.0</td>\n",
       "    </tr>\n",
       "    <tr>\n",
       "      <th>2978</th>\n",
       "      <td>12428240</td>\n",
       "      <td>Rialto</td>\n",
       "      <td>1.0</td>\n",
       "      <td>3.0</td>\n",
       "      <td>B2</td>\n",
       "      <td>Dublin</td>\n",
       "      <td>Property Team Patrick Moran is delighted to pr...</td>\n",
       "      <td>prod</td>\n",
       "      <td>NaN</td>\n",
       "      <td>Totally refurbished to the highest standard. \\...</td>\n",
       "      <td>53.335793</td>\n",
       "      <td>-6.294268</td>\n",
       "      <td>NaN</td>\n",
       "      <td>485000.0</td>\n",
       "      <td>sale</td>\n",
       "      <td>terraced</td>\n",
       "      <td>101.0</td>\n",
       "    </tr>\n",
       "    <tr>\n",
       "      <th>2979</th>\n",
       "      <td>12428247</td>\n",
       "      <td>Smithfield</td>\n",
       "      <td>1.0</td>\n",
       "      <td>2.0</td>\n",
       "      <td>C3</td>\n",
       "      <td>Dublin</td>\n",
       "      <td>Earnest estate agents are delighted to present...</td>\n",
       "      <td>prod</td>\n",
       "      <td>Wired for Cable Television</td>\n",
       "      <td>OVERLOOKING THE RIVER LIFFEY \\n3RD FLOOR APART...</td>\n",
       "      <td>53.346098</td>\n",
       "      <td>-6.276856</td>\n",
       "      <td>NaN</td>\n",
       "      <td>299000.0</td>\n",
       "      <td>sale</td>\n",
       "      <td>apartment</td>\n",
       "      <td>55.6</td>\n",
       "    </tr>\n",
       "    <tr>\n",
       "      <th>2980</th>\n",
       "      <td>12428254</td>\n",
       "      <td>Foxrock</td>\n",
       "      <td>2.0</td>\n",
       "      <td>3.0</td>\n",
       "      <td>C3</td>\n",
       "      <td>Dublin</td>\n",
       "      <td>Janet Carroll Estate Agents are pleased to pre...</td>\n",
       "      <td>prod</td>\n",
       "      <td>Parking,Gas Fired Central Heating</td>\n",
       "      <td>None</td>\n",
       "      <td>53.273518</td>\n",
       "      <td>-6.178500</td>\n",
       "      <td>NaN</td>\n",
       "      <td>495000.0</td>\n",
       "      <td>sale</td>\n",
       "      <td>end-of-terrace</td>\n",
       "      <td>97.0</td>\n",
       "    </tr>\n",
       "    <tr>\n",
       "      <th>2981</th>\n",
       "      <td>12428358</td>\n",
       "      <td>Terenure</td>\n",
       "      <td>2.0</td>\n",
       "      <td>3.0</td>\n",
       "      <td>D2</td>\n",
       "      <td>Dublin</td>\n",
       "      <td>ON VIEW SATURDAY 7 TH MARCH 2020 11:30 AM - 12...</td>\n",
       "      <td>prod</td>\n",
       "      <td>NaN</td>\n",
       "      <td>Charming three-bedroom family home\\nMinutes aw...</td>\n",
       "      <td>53.310073</td>\n",
       "      <td>-6.325158</td>\n",
       "      <td>NaN</td>\n",
       "      <td>525000.0</td>\n",
       "      <td>sale</td>\n",
       "      <td>semi-detached</td>\n",
       "      <td>129.3</td>\n",
       "    </tr>\n",
       "  </tbody>\n",
       "</table>\n",
       "</div>"
      ],
      "text/plain": [
       "         ad_id         area  bathrooms  beds ber_classification  county  \\\n",
       "2977  12428232  Ballsbridge        2.0   2.0                 C3  Dublin   \n",
       "2978  12428240       Rialto        1.0   3.0                 B2  Dublin   \n",
       "2979  12428247   Smithfield        1.0   2.0                 C3  Dublin   \n",
       "2980  12428254      Foxrock        2.0   3.0                 C3  Dublin   \n",
       "2981  12428358     Terenure        2.0   3.0                 D2  Dublin   \n",
       "\n",
       "                                      description_block environment  \\\n",
       "2977  Sherry FitzGerald are delighted to present Apa...        prod   \n",
       "2978  Property Team Patrick Moran is delighted to pr...        prod   \n",
       "2979  Earnest estate agents are delighted to present...        prod   \n",
       "2980  Janet Carroll Estate Agents are pleased to pre...        prod   \n",
       "2981  ON VIEW SATURDAY 7 TH MARCH 2020 11:30 AM - 12...        prod   \n",
       "\n",
       "                               facility  \\\n",
       "2977                                NaN   \n",
       "2978                                NaN   \n",
       "2979         Wired for Cable Television   \n",
       "2980  Parking,Gas Fired Central Heating   \n",
       "2981                                NaN   \n",
       "\n",
       "                                               features   latitude  longitude  \\\n",
       "2977  Prime Location\\nManagement Co: Core Property M...  53.338738  -6.237199   \n",
       "2978  Totally refurbished to the highest standard. \\...  53.335793  -6.294268   \n",
       "2979  OVERLOOKING THE RIVER LIFFEY \\n3RD FLOOR APART...  53.346098  -6.276856   \n",
       "2980                                               None  53.273518  -6.178500   \n",
       "2981  Charming three-bedroom family home\\nMinutes aw...  53.310073  -6.325158   \n",
       "\n",
       "      no_of_units     price property_category   property_type  surface  \n",
       "2977          NaN  415000.0              sale       apartment     56.0  \n",
       "2978          NaN  485000.0              sale        terraced    101.0  \n",
       "2979          NaN  299000.0              sale       apartment     55.6  \n",
       "2980          NaN  495000.0              sale  end-of-terrace     97.0  \n",
       "2981          NaN  525000.0              sale   semi-detached    129.3  "
      ]
     },
     "execution_count": 12,
     "metadata": {},
     "output_type": "execute_result"
    }
   ],
   "source": [
    "df_train.tail()"
   ]
  },
  {
   "cell_type": "code",
   "execution_count": 13,
   "metadata": {
    "scrolled": true
   },
   "outputs": [
    {
     "data": {
      "text/html": [
       "<div>\n",
       "<style scoped>\n",
       "    .dataframe tbody tr th:only-of-type {\n",
       "        vertical-align: middle;\n",
       "    }\n",
       "\n",
       "    .dataframe tbody tr th {\n",
       "        vertical-align: top;\n",
       "    }\n",
       "\n",
       "    .dataframe thead th {\n",
       "        text-align: right;\n",
       "    }\n",
       "</style>\n",
       "<table border=\"1\" class=\"dataframe\">\n",
       "  <thead>\n",
       "    <tr style=\"text-align: right;\">\n",
       "      <th></th>\n",
       "      <th>ad_id</th>\n",
       "      <th>area</th>\n",
       "      <th>bathrooms</th>\n",
       "      <th>beds</th>\n",
       "      <th>ber_classification</th>\n",
       "      <th>county</th>\n",
       "      <th>description_block</th>\n",
       "      <th>environment</th>\n",
       "      <th>facility</th>\n",
       "      <th>features</th>\n",
       "      <th>latitude</th>\n",
       "      <th>longitude</th>\n",
       "      <th>no_of_units</th>\n",
       "      <th>property_category</th>\n",
       "      <th>property_type</th>\n",
       "      <th>surface</th>\n",
       "    </tr>\n",
       "  </thead>\n",
       "  <tbody>\n",
       "    <tr>\n",
       "      <th>0</th>\n",
       "      <td>12373510</td>\n",
       "      <td>Skerries</td>\n",
       "      <td>2.0</td>\n",
       "      <td>4.0</td>\n",
       "      <td>G</td>\n",
       "      <td>Dublin</td>\n",
       "      <td>It's all in the name \"Island View\";. Truly won...</td>\n",
       "      <td>prod</td>\n",
       "      <td>Parking,Alarm,Oil Fired Central Heating</td>\n",
       "      <td>Breath-taking panoramic views radiate from thi...</td>\n",
       "      <td>53.566881</td>\n",
       "      <td>-6.101148</td>\n",
       "      <td>NaN</td>\n",
       "      <td>sale</td>\n",
       "      <td>bungalow</td>\n",
       "      <td>142.0</td>\n",
       "    </tr>\n",
       "    <tr>\n",
       "      <th>1</th>\n",
       "      <td>12422623</td>\n",
       "      <td>Lucan</td>\n",
       "      <td>2.0</td>\n",
       "      <td>3.0</td>\n",
       "      <td>C1</td>\n",
       "      <td>Dublin</td>\n",
       "      <td>REA McDonald - Lucan' s longest established es...</td>\n",
       "      <td>prod</td>\n",
       "      <td>NaN</td>\n",
       "      <td>Gas fired central heating.\\nDouble glazed wind...</td>\n",
       "      <td>53.362992</td>\n",
       "      <td>-6.452909</td>\n",
       "      <td>NaN</td>\n",
       "      <td>sale</td>\n",
       "      <td>terraced</td>\n",
       "      <td>114.0</td>\n",
       "    </tr>\n",
       "    <tr>\n",
       "      <th>2</th>\n",
       "      <td>12377408</td>\n",
       "      <td>Swords</td>\n",
       "      <td>3.0</td>\n",
       "      <td>4.0</td>\n",
       "      <td>B3</td>\n",
       "      <td>Dublin</td>\n",
       "      <td>REA Grimes are proud to present to the market ...</td>\n",
       "      <td>prod</td>\n",
       "      <td>NaN</td>\n",
       "      <td>Pristine condition throughout\\nHighly sought-a...</td>\n",
       "      <td>53.454198</td>\n",
       "      <td>-6.262964</td>\n",
       "      <td>NaN</td>\n",
       "      <td>sale</td>\n",
       "      <td>semi-detached</td>\n",
       "      <td>172.0</td>\n",
       "    </tr>\n",
       "    <tr>\n",
       "      <th>3</th>\n",
       "      <td>12420093</td>\n",
       "      <td>Lucan</td>\n",
       "      <td>4.0</td>\n",
       "      <td>3.0</td>\n",
       "      <td>A3</td>\n",
       "      <td>Dublin</td>\n",
       "      <td>REA McDonald, Lucan' s longest established est...</td>\n",
       "      <td>prod</td>\n",
       "      <td>NaN</td>\n",
       "      <td>A-rated home within a short walk of Lucan Vill...</td>\n",
       "      <td>53.354402</td>\n",
       "      <td>-6.458647</td>\n",
       "      <td>NaN</td>\n",
       "      <td>sale</td>\n",
       "      <td>semi-detached</td>\n",
       "      <td>132.4</td>\n",
       "    </tr>\n",
       "    <tr>\n",
       "      <th>4</th>\n",
       "      <td>12417338</td>\n",
       "      <td>Clondalkin</td>\n",
       "      <td>1.0</td>\n",
       "      <td>3.0</td>\n",
       "      <td>E2</td>\n",
       "      <td>Dublin</td>\n",
       "      <td>Hibernian Auctioneers are delighted to bring, ...</td>\n",
       "      <td>prod</td>\n",
       "      <td>Parking,Gas Fired Central Heating,Wired for Ca...</td>\n",
       "      <td>Mature Location \\nGas Heating \\nClose to Ameni...</td>\n",
       "      <td>53.336530</td>\n",
       "      <td>-6.393587</td>\n",
       "      <td>NaN</td>\n",
       "      <td>sale</td>\n",
       "      <td>semi-detached</td>\n",
       "      <td>88.0</td>\n",
       "    </tr>\n",
       "  </tbody>\n",
       "</table>\n",
       "</div>"
      ],
      "text/plain": [
       "      ad_id        area  bathrooms  beds ber_classification  county  \\\n",
       "0  12373510    Skerries        2.0   4.0                  G  Dublin   \n",
       "1  12422623       Lucan        2.0   3.0                 C1  Dublin   \n",
       "2  12377408      Swords        3.0   4.0                 B3  Dublin   \n",
       "3  12420093       Lucan        4.0   3.0                 A3  Dublin   \n",
       "4  12417338  Clondalkin        1.0   3.0                 E2  Dublin   \n",
       "\n",
       "                                   description_block environment  \\\n",
       "0  It's all in the name \"Island View\";. Truly won...        prod   \n",
       "1  REA McDonald - Lucan' s longest established es...        prod   \n",
       "2  REA Grimes are proud to present to the market ...        prod   \n",
       "3  REA McDonald, Lucan' s longest established est...        prod   \n",
       "4  Hibernian Auctioneers are delighted to bring, ...        prod   \n",
       "\n",
       "                                            facility  \\\n",
       "0            Parking,Alarm,Oil Fired Central Heating   \n",
       "1                                                NaN   \n",
       "2                                                NaN   \n",
       "3                                                NaN   \n",
       "4  Parking,Gas Fired Central Heating,Wired for Ca...   \n",
       "\n",
       "                                            features   latitude  longitude  \\\n",
       "0  Breath-taking panoramic views radiate from thi...  53.566881  -6.101148   \n",
       "1  Gas fired central heating.\\nDouble glazed wind...  53.362992  -6.452909   \n",
       "2  Pristine condition throughout\\nHighly sought-a...  53.454198  -6.262964   \n",
       "3  A-rated home within a short walk of Lucan Vill...  53.354402  -6.458647   \n",
       "4  Mature Location \\nGas Heating \\nClose to Ameni...  53.336530  -6.393587   \n",
       "\n",
       "   no_of_units property_category  property_type  surface  \n",
       "0          NaN              sale       bungalow    142.0  \n",
       "1          NaN              sale       terraced    114.0  \n",
       "2          NaN              sale  semi-detached    172.0  \n",
       "3          NaN              sale  semi-detached    132.4  \n",
       "4          NaN              sale  semi-detached     88.0  "
      ]
     },
     "execution_count": 13,
     "metadata": {},
     "output_type": "execute_result"
    }
   ],
   "source": [
    "df_test.head()"
   ]
  },
  {
   "cell_type": "code",
   "execution_count": 14,
   "metadata": {
    "scrolled": true
   },
   "outputs": [
    {
     "data": {
      "text/html": [
       "<div>\n",
       "<style scoped>\n",
       "    .dataframe tbody tr th:only-of-type {\n",
       "        vertical-align: middle;\n",
       "    }\n",
       "\n",
       "    .dataframe tbody tr th {\n",
       "        vertical-align: top;\n",
       "    }\n",
       "\n",
       "    .dataframe thead th {\n",
       "        text-align: right;\n",
       "    }\n",
       "</style>\n",
       "<table border=\"1\" class=\"dataframe\">\n",
       "  <thead>\n",
       "    <tr style=\"text-align: right;\">\n",
       "      <th></th>\n",
       "      <th>ad_id</th>\n",
       "      <th>area</th>\n",
       "      <th>bathrooms</th>\n",
       "      <th>beds</th>\n",
       "      <th>ber_classification</th>\n",
       "      <th>county</th>\n",
       "      <th>description_block</th>\n",
       "      <th>environment</th>\n",
       "      <th>facility</th>\n",
       "      <th>features</th>\n",
       "      <th>latitude</th>\n",
       "      <th>longitude</th>\n",
       "      <th>no_of_units</th>\n",
       "      <th>property_category</th>\n",
       "      <th>property_type</th>\n",
       "      <th>surface</th>\n",
       "    </tr>\n",
       "  </thead>\n",
       "  <tbody>\n",
       "    <tr>\n",
       "      <th>495</th>\n",
       "      <td>12369815</td>\n",
       "      <td>Ringsend</td>\n",
       "      <td>1.0</td>\n",
       "      <td>2.0</td>\n",
       "      <td>NaN</td>\n",
       "      <td>Dublin</td>\n",
       "      <td>***SUPERB LOCATION / PRIVATE PARKING OPTION AV...</td>\n",
       "      <td>prod</td>\n",
       "      <td>NaN</td>\n",
       "      <td>Adjacent to Grand Canal Dock\\nClose to a host ...</td>\n",
       "      <td>53.342207</td>\n",
       "      <td>-6.226101</td>\n",
       "      <td>NaN</td>\n",
       "      <td>sale</td>\n",
       "      <td>apartment</td>\n",
       "      <td>65.0</td>\n",
       "    </tr>\n",
       "    <tr>\n",
       "      <th>496</th>\n",
       "      <td>12416011</td>\n",
       "      <td>Cabinteely</td>\n",
       "      <td>3.0</td>\n",
       "      <td>5.0</td>\n",
       "      <td>E1</td>\n",
       "      <td>Dublin</td>\n",
       "      <td>OPEN VIEWING SATURDAY 7TH MARCH, 10.00AM - 10....</td>\n",
       "      <td>prod</td>\n",
       "      <td>Parking,Alarm,Oil Fired Central Heating</td>\n",
       "      <td>Excellently presented 5 bedroom family home\\nE...</td>\n",
       "      <td>53.261475</td>\n",
       "      <td>-6.147720</td>\n",
       "      <td>NaN</td>\n",
       "      <td>sale</td>\n",
       "      <td>detached</td>\n",
       "      <td>191.3</td>\n",
       "    </tr>\n",
       "    <tr>\n",
       "      <th>497</th>\n",
       "      <td>12232222</td>\n",
       "      <td>Artane</td>\n",
       "      <td>1.0</td>\n",
       "      <td>3.0</td>\n",
       "      <td>G</td>\n",
       "      <td>Dublin</td>\n",
       "      <td>Sherry FitzGerald is delighted to present to t...</td>\n",
       "      <td>prod</td>\n",
       "      <td>NaN</td>\n",
       "      <td>Detached Family Home\\nOnly One Owner\\nMature C...</td>\n",
       "      <td>53.391619</td>\n",
       "      <td>-6.205157</td>\n",
       "      <td>NaN</td>\n",
       "      <td>sale</td>\n",
       "      <td>detached</td>\n",
       "      <td>105.0</td>\n",
       "    </tr>\n",
       "    <tr>\n",
       "      <th>498</th>\n",
       "      <td>11905630</td>\n",
       "      <td>Clontarf</td>\n",
       "      <td>2.0</td>\n",
       "      <td>4.0</td>\n",
       "      <td>E2</td>\n",
       "      <td>Dublin</td>\n",
       "      <td>Modernised yet still in touch with it's period...</td>\n",
       "      <td>prod</td>\n",
       "      <td>Parking,Gas Fired Central Heating,Alarm,Wired ...</td>\n",
       "      <td>Stunning coastal views.\\nExcellent condition t...</td>\n",
       "      <td>53.360578</td>\n",
       "      <td>-6.183701</td>\n",
       "      <td>NaN</td>\n",
       "      <td>sale</td>\n",
       "      <td>end-of-terrace</td>\n",
       "      <td>130.0</td>\n",
       "    </tr>\n",
       "    <tr>\n",
       "      <th>499</th>\n",
       "      <td>12394865</td>\n",
       "      <td>Drumcondra</td>\n",
       "      <td>2.0</td>\n",
       "      <td>2.0</td>\n",
       "      <td>C1</td>\n",
       "      <td>Dublin</td>\n",
       "      <td>MOVEHOME ESTATE AGENTS .. are delighted to pre...</td>\n",
       "      <td>prod</td>\n",
       "      <td>NaN</td>\n",
       "      <td>* Spacious two Bedroom master ensuite apartmen...</td>\n",
       "      <td>53.366827</td>\n",
       "      <td>-6.248329</td>\n",
       "      <td>NaN</td>\n",
       "      <td>sale</td>\n",
       "      <td>apartment</td>\n",
       "      <td>71.0</td>\n",
       "    </tr>\n",
       "  </tbody>\n",
       "</table>\n",
       "</div>"
      ],
      "text/plain": [
       "        ad_id        area  bathrooms  beds ber_classification  county  \\\n",
       "495  12369815    Ringsend        1.0   2.0                NaN  Dublin   \n",
       "496  12416011  Cabinteely        3.0   5.0                 E1  Dublin   \n",
       "497  12232222      Artane        1.0   3.0                  G  Dublin   \n",
       "498  11905630    Clontarf        2.0   4.0                 E2  Dublin   \n",
       "499  12394865  Drumcondra        2.0   2.0                 C1  Dublin   \n",
       "\n",
       "                                     description_block environment  \\\n",
       "495  ***SUPERB LOCATION / PRIVATE PARKING OPTION AV...        prod   \n",
       "496  OPEN VIEWING SATURDAY 7TH MARCH, 10.00AM - 10....        prod   \n",
       "497  Sherry FitzGerald is delighted to present to t...        prod   \n",
       "498  Modernised yet still in touch with it's period...        prod   \n",
       "499  MOVEHOME ESTATE AGENTS .. are delighted to pre...        prod   \n",
       "\n",
       "                                              facility  \\\n",
       "495                                                NaN   \n",
       "496            Parking,Alarm,Oil Fired Central Heating   \n",
       "497                                                NaN   \n",
       "498  Parking,Gas Fired Central Heating,Alarm,Wired ...   \n",
       "499                                                NaN   \n",
       "\n",
       "                                              features   latitude  longitude  \\\n",
       "495  Adjacent to Grand Canal Dock\\nClose to a host ...  53.342207  -6.226101   \n",
       "496  Excellently presented 5 bedroom family home\\nE...  53.261475  -6.147720   \n",
       "497  Detached Family Home\\nOnly One Owner\\nMature C...  53.391619  -6.205157   \n",
       "498  Stunning coastal views.\\nExcellent condition t...  53.360578  -6.183701   \n",
       "499  * Spacious two Bedroom master ensuite apartmen...  53.366827  -6.248329   \n",
       "\n",
       "     no_of_units property_category   property_type  surface  \n",
       "495          NaN              sale       apartment     65.0  \n",
       "496          NaN              sale        detached    191.3  \n",
       "497          NaN              sale        detached    105.0  \n",
       "498          NaN              sale  end-of-terrace    130.0  \n",
       "499          NaN              sale       apartment     71.0  "
      ]
     },
     "execution_count": 14,
     "metadata": {},
     "output_type": "execute_result"
    }
   ],
   "source": [
    "df_test.tail()"
   ]
  },
  {
   "cell_type": "markdown",
   "metadata": {},
   "source": [
    "Use the following to get some high level information about the missing data.\n",
    "Then later we drop the columns with  mostly null values."
   ]
  },
  {
   "cell_type": "code",
   "execution_count": 15,
   "metadata": {
    "id": "xL8ABu1-aIm_",
    "scrolled": true
   },
   "outputs": [
    {
     "data": {
      "text/plain": [
       "ad_id                    0\n",
       "area                     0\n",
       "bathrooms               51\n",
       "beds                    51\n",
       "ber_classification     677\n",
       "county                   0\n",
       "description_block        0\n",
       "environment              0\n",
       "facility              2017\n",
       "features                 0\n",
       "latitude                 0\n",
       "longitude                0\n",
       "no_of_units           2923\n",
       "price                   90\n",
       "property_category        0\n",
       "property_type           51\n",
       "surface                551\n",
       "dtype: int64"
      ]
     },
     "execution_count": 15,
     "metadata": {},
     "output_type": "execute_result"
    }
   ],
   "source": [
    "df_train.isna().sum()"
   ]
  },
  {
   "cell_type": "markdown",
   "metadata": {},
   "source": [
    "***\n",
    "Columns to drop from above : *no_of_units, facility, surface*\n",
    "\n",
    "*description_block and features* is a descriptive text which will add very little valie. Also to be dropped\n",
    "***"
   ]
  },
  {
   "cell_type": "code",
   "execution_count": 16,
   "metadata": {
    "id": "21zaS2fAaPGO",
    "scrolled": true
   },
   "outputs": [
    {
     "name": "stdout",
     "output_type": "stream",
     "text": [
      "Missing values as percentage of Train data set\n"
     ]
    },
    {
     "data": {
      "text/plain": [
       "ad_id                  0.000000\n",
       "area                   0.000000\n",
       "bathrooms              1.710262\n",
       "beds                   1.710262\n",
       "ber_classification    22.702884\n",
       "county                 0.000000\n",
       "description_block      0.000000\n",
       "environment            0.000000\n",
       "facility              67.639168\n",
       "features               0.000000\n",
       "latitude               0.000000\n",
       "longitude              0.000000\n",
       "no_of_units           98.021462\n",
       "price                  3.018109\n",
       "property_category      0.000000\n",
       "property_type          1.710262\n",
       "surface               18.477532\n",
       "dtype: float64"
      ]
     },
     "execution_count": 16,
     "metadata": {},
     "output_type": "execute_result"
    }
   ],
   "source": [
    "# Find the number of nulls/NaNs in the dataset as a percentage to see if any columns need to be considered for removal\n",
    "print(\"Missing values as percentage of Train data set\")\n",
    "df_train.isna().sum()*100/len(df_train)"
   ]
  },
  {
   "cell_type": "code",
   "execution_count": 17,
   "metadata": {
    "scrolled": true
   },
   "outputs": [
    {
     "data": {
      "text/plain": [
       "ad_id                   0\n",
       "area                    0\n",
       "bathrooms               0\n",
       "beds                    0\n",
       "ber_classification     56\n",
       "county                  0\n",
       "description_block       0\n",
       "environment             0\n",
       "facility              311\n",
       "features                0\n",
       "latitude                0\n",
       "longitude               0\n",
       "no_of_units           500\n",
       "property_category       0\n",
       "property_type           0\n",
       "surface                 0\n",
       "dtype: int64"
      ]
     },
     "execution_count": 17,
     "metadata": {},
     "output_type": "execute_result"
    }
   ],
   "source": [
    "df_test.isna().sum()"
   ]
  },
  {
   "cell_type": "code",
   "execution_count": 18,
   "metadata": {
    "scrolled": true
   },
   "outputs": [
    {
     "name": "stdout",
     "output_type": "stream",
     "text": [
      "Missing values as percentage of Test data set\n"
     ]
    },
    {
     "data": {
      "text/plain": [
       "ad_id                   0.0\n",
       "area                    0.0\n",
       "bathrooms               0.0\n",
       "beds                    0.0\n",
       "ber_classification     11.2\n",
       "county                  0.0\n",
       "description_block       0.0\n",
       "environment             0.0\n",
       "facility               62.2\n",
       "features                0.0\n",
       "latitude                0.0\n",
       "longitude               0.0\n",
       "no_of_units           100.0\n",
       "property_category       0.0\n",
       "property_type           0.0\n",
       "surface                 0.0\n",
       "dtype: float64"
      ]
     },
     "execution_count": 18,
     "metadata": {},
     "output_type": "execute_result"
    }
   ],
   "source": [
    "print(\"Missing values as percentage of Test data set\")\n",
    "df_test.isna().sum()*100/len(df_test)"
   ]
  },
  {
   "cell_type": "markdown",
   "metadata": {},
   "source": [
    "***\n",
    "Columns to drop from above : *no_of_units, facility*\n",
    "\n",
    "*description_block and features* is a descriptive text which will add very little valie. Also to be dropped\n",
    "***"
   ]
  },
  {
   "cell_type": "markdown",
   "metadata": {
    "id": "ExdH_vJaQ47P"
   },
   "source": [
    "### 1.2 Univariate Analysis"
   ]
  },
  {
   "cell_type": "code",
   "execution_count": null,
   "metadata": {
    "scrolled": true
   },
   "outputs": [],
   "source": []
  },
  {
   "cell_type": "markdown",
   "metadata": {
    "id": "Q_NW_dd8Q-kE"
   },
   "source": [
    "### 1.3 Multi Variate Analysis"
   ]
  },
  {
   "cell_type": "code",
   "execution_count": 19,
   "metadata": {
    "scrolled": true
   },
   "outputs": [
    {
     "data": {
      "image/png": "[encoded data removed]",
      "text/plain": [
       "<Figure size 432x288 with 2 Axes>"
      ]
     },
     "metadata": {
      "needs_background": "light"
     },
     "output_type": "display_data"
    }
   ],
   "source": [
    "# calculate the correlation matrix\n",
    "corr = df_train.corr()\n",
    "\n",
    "# plot the heatmap\n",
    "sns.heatmap(corr, xticklabels=corr.columns,yticklabels=corr.columns);"
   ]
  },
  {
   "cell_type": "code",
   "execution_count": 20,
   "metadata": {
    "scrolled": true
   },
   "outputs": [
    {
     "data": {
      "image/png": "[encoded data removed]",
      "text/plain": [
       "<Figure size 432x288 with 2 Axes>"
      ]
     },
     "metadata": {
      "needs_background": "light"
     },
     "output_type": "display_data"
    }
   ],
   "source": [
    "# calculate the correlation matrix\n",
    "corr = df_test.corr()\n",
    "\n",
    "# plot the heatmap\n",
    "sns.heatmap(corr, xticklabels=corr.columns,yticklabels=corr.columns);"
   ]
  },
  {
   "cell_type": "code",
   "execution_count": 21,
   "metadata": {
    "scrolled": true
   },
   "outputs": [],
   "source": [
    "# df_train[['latitude', 'longitude', 'bathrooms', 'beds', 'surface']].describe()"
   ]
  },
  {
   "cell_type": "markdown",
   "metadata": {
    "id": "0DARIo06RDw5"
   },
   "source": [
    "### 1.4 Missing Value Treatment"
   ]
  },
  {
   "cell_type": "code",
   "execution_count": 22,
   "metadata": {
    "scrolled": true
   },
   "outputs": [],
   "source": [
    "# As discussed above, here we are dropping columns with mist missing values. \n",
    "drop_features_train = ['surface', 'no_of_units', 'facility', 'description_block', 'features', 'county']\n",
    "#this didn;t work, not sure why\n",
    "# df_train.drop(drop_features_train, axis=1)\n",
    "\n",
    "df_train.drop('surface', axis=1, inplace=True)\n",
    "df_train.drop('no_of_units', axis=1, inplace=True)\n",
    "df_train.drop('facility', axis=1, inplace=True)\n",
    "df_train.drop('description_block', axis=1, inplace=True)\n",
    "df_train.drop('features', axis=1, inplace=True)\n",
    "\n",
    "\n",
    "drop_features_test = ['no_of_units', 'facility', 'description_block', 'features', 'county']\n",
    "#this didn;t work, not sure why\n",
    "# df_test.drop(drop_features_test, axis=1)\n",
    "df_test.drop('no_of_units', axis=1, inplace=True)\n",
    "df_test.drop('facility', axis=1, inplace=True)\n",
    "df_test.drop('description_block', axis=1, inplace=True)\n",
    "df_test.drop('features', axis=1, inplace=True)\n",
    "\n",
    "# In that regard County doesn;'t add much values, so we drop county.\n",
    "df_train.drop('county', axis=1, inplace=True)\n",
    "df_test.drop('county', axis=1, inplace=True)\n",
    "\n",
    "df_train.drop('environment', axis=1, inplace=True)\n",
    "df_test.drop('environment', axis=1, inplace=True)\n"
   ]
  },
  {
   "cell_type": "markdown",
   "metadata": {
    "id": "F0heIDEcgHJa"
   },
   "source": [
    "### 1.4 Transformation\n",
    "Apply the transformer on the train dataset and the test dataset"
   ]
  },
  {
   "cell_type": "markdown",
   "metadata": {
    "id": "58pLTtrrvcaw"
   },
   "source": [
    "#### Location Mapping"
   ]
  },
  {
   "cell_type": "code",
   "execution_count": 23,
   "metadata": {
    "id": "bP75DCErgNHD",
    "scrolled": true
   },
   "outputs": [],
   "source": [
    "# i have read Pierluigi's post and felt we can automate this mapping step as opposed to mnually creating the dictionary. \n",
    "def create_values_mapper(values_from_dataset):\n",
    "    area_mapper = {}\n",
    "    # get unique values first\n",
    "    unique_areas = values_from_dataset.unique()\n",
    "    # Sort them alphabetically for ease\n",
    "    areas = np.sort(unique_areas)[::1]\n",
    "    for count, area in enumerate(areas):\n",
    "        area_mapper[area]= count\n",
    "    return area_mapper"
   ]
  },
  {
   "cell_type": "code",
   "execution_count": 24,
   "metadata": {
    "id": "izveBzokhGgP",
    "scrolled": true
   },
   "outputs": [],
   "source": [
    "area_mapper = create_values_mapper(df_train['area'])\n",
    "df_train['area'] = df_train['area'].replace(area_mapper)\n",
    "\n",
    "area_mapper = create_values_mapper(df_test['area'])\n",
    "df_test['area'] = df_test['area'].replace(area_mapper)"
   ]
  },
  {
   "cell_type": "markdown",
   "metadata": {
    "id": "FG2uICCJvleX"
   },
   "source": [
    "#### Property Type Mapping"
   ]
  },
  {
   "cell_type": "code",
   "execution_count": 25,
   "metadata": {
    "id": "8kjyzfBchcS0",
    "scrolled": true
   },
   "outputs": [],
   "source": [
    "ptypes = df_train['property_type'].unique()\n",
    "property_type_mapper = {}\n",
    "for count, ptype in enumerate(ptypes):\n",
    "    property_type_mapper[ptype]= count"
   ]
  },
  {
   "cell_type": "code",
   "execution_count": 26,
   "metadata": {
    "id": "3ghpxllaicst",
    "scrolled": true
   },
   "outputs": [],
   "source": [
    "df_train[\"property_type\"] = df_train[\"property_type\"].replace(property_type_mapper)\n",
    "\n",
    "df_test[\"property_type\"] = df_test[\"property_type\"].replace(property_type_mapper)"
   ]
  },
  {
   "cell_type": "markdown",
   "metadata": {
    "id": "m8Irt-imv9Vj"
   },
   "source": [
    "#### BER Classification Mapping"
   ]
  },
  {
   "cell_type": "code",
   "execution_count": 27,
   "metadata": {
    "id": "gxtWVimfv8hZ",
    "scrolled": true
   },
   "outputs": [],
   "source": [
    "ber_types = df_train['ber_classification'].unique()\n",
    "ber_mapper = {}\n",
    "for count, ber_type in enumerate(ber_types):\n",
    "    ber_mapper [ber_type]= count"
   ]
  },
  {
   "cell_type": "code",
   "execution_count": 28,
   "metadata": {
    "colab": {
     "base_uri": "https://localhost:8080/",
     "height": 374
    },
    "id": "xms8jcLtzJK2",
    "outputId": "56d5c5eb-e604-453f-90c9-2907fa9b0294",
    "scrolled": true
   },
   "outputs": [],
   "source": [
    "df_train[\"ber_classification\"] = df_train[\"ber_classification\"].replace(ber_mapper)\n",
    "df_test[\"ber_classification\"] = df_test[\"ber_classification\"].replace(ber_mapper)\n",
    "\n",
    "df_train['ber_classification'].fillna(df_train['ber_classification'].median(), inplace=True)\n",
    "df_test['ber_classification'].fillna(df_test['ber_classification'].median(), inplace=True)"
   ]
  },
  {
   "cell_type": "markdown",
   "metadata": {},
   "source": [
    "#### Property Category Mapping"
   ]
  },
  {
   "cell_type": "code",
   "execution_count": 29,
   "metadata": {},
   "outputs": [],
   "source": [
    "property_category_mapper = {\n",
    "    \"sale\": 0,\n",
    "    \"new_development_parent\": 1\n",
    "}\n",
    "\n",
    "df_train['property_category'] = df_train['property_category'].replace(property_category_mapper)\n",
    "df_test['property_category'] = df_test['property_category'].replace(property_category_mapper)"
   ]
  },
  {
   "cell_type": "code",
   "execution_count": 30,
   "metadata": {},
   "outputs": [],
   "source": [
    "df_train.dropna(subset=['bathrooms'], inplace=True)\n",
    "df_train.dropna(subset=['price'], inplace=True)"
   ]
  },
  {
   "cell_type": "code",
   "execution_count": 31,
   "metadata": {
    "id": "kO8Ujj32ivdi",
    "scrolled": true
   },
   "outputs": [
    {
     "data": {
      "text/html": [
       "<div>\n",
       "<style scoped>\n",
       "    .dataframe tbody tr th:only-of-type {\n",
       "        vertical-align: middle;\n",
       "    }\n",
       "\n",
       "    .dataframe tbody tr th {\n",
       "        vertical-align: top;\n",
       "    }\n",
       "\n",
       "    .dataframe thead th {\n",
       "        text-align: right;\n",
       "    }\n",
       "</style>\n",
       "<table border=\"1\" class=\"dataframe\">\n",
       "  <thead>\n",
       "    <tr style=\"text-align: right;\">\n",
       "      <th></th>\n",
       "      <th>ad_id</th>\n",
       "      <th>area</th>\n",
       "      <th>bathrooms</th>\n",
       "      <th>beds</th>\n",
       "      <th>ber_classification</th>\n",
       "      <th>latitude</th>\n",
       "      <th>longitude</th>\n",
       "      <th>price</th>\n",
       "      <th>property_category</th>\n",
       "      <th>property_type</th>\n",
       "    </tr>\n",
       "  </thead>\n",
       "  <tbody>\n",
       "    <tr>\n",
       "      <th>2977</th>\n",
       "      <td>12428232</td>\n",
       "      <td>9</td>\n",
       "      <td>2.0</td>\n",
       "      <td>2.0</td>\n",
       "      <td>8</td>\n",
       "      <td>53.338738</td>\n",
       "      <td>-6.237199</td>\n",
       "      <td>415000.0</td>\n",
       "      <td>0</td>\n",
       "      <td>3</td>\n",
       "    </tr>\n",
       "    <tr>\n",
       "      <th>2978</th>\n",
       "      <td>12428240</td>\n",
       "      <td>128</td>\n",
       "      <td>1.0</td>\n",
       "      <td>3.0</td>\n",
       "      <td>11</td>\n",
       "      <td>53.335793</td>\n",
       "      <td>-6.294268</td>\n",
       "      <td>485000.0</td>\n",
       "      <td>0</td>\n",
       "      <td>4</td>\n",
       "    </tr>\n",
       "    <tr>\n",
       "      <th>2979</th>\n",
       "      <td>12428247</td>\n",
       "      <td>139</td>\n",
       "      <td>1.0</td>\n",
       "      <td>2.0</td>\n",
       "      <td>8</td>\n",
       "      <td>53.346098</td>\n",
       "      <td>-6.276856</td>\n",
       "      <td>299000.0</td>\n",
       "      <td>0</td>\n",
       "      <td>3</td>\n",
       "    </tr>\n",
       "    <tr>\n",
       "      <th>2980</th>\n",
       "      <td>12428254</td>\n",
       "      <td>69</td>\n",
       "      <td>2.0</td>\n",
       "      <td>3.0</td>\n",
       "      <td>8</td>\n",
       "      <td>53.273518</td>\n",
       "      <td>-6.178500</td>\n",
       "      <td>495000.0</td>\n",
       "      <td>0</td>\n",
       "      <td>8</td>\n",
       "    </tr>\n",
       "    <tr>\n",
       "      <th>2981</th>\n",
       "      <td>12428358</td>\n",
       "      <td>149</td>\n",
       "      <td>2.0</td>\n",
       "      <td>3.0</td>\n",
       "      <td>9</td>\n",
       "      <td>53.310073</td>\n",
       "      <td>-6.325158</td>\n",
       "      <td>525000.0</td>\n",
       "      <td>0</td>\n",
       "      <td>2</td>\n",
       "    </tr>\n",
       "  </tbody>\n",
       "</table>\n",
       "</div>"
      ],
      "text/plain": [
       "         ad_id  area  bathrooms  beds  ber_classification   latitude  \\\n",
       "2977  12428232     9        2.0   2.0                   8  53.338738   \n",
       "2978  12428240   128        1.0   3.0                  11  53.335793   \n",
       "2979  12428247   139        1.0   2.0                   8  53.346098   \n",
       "2980  12428254    69        2.0   3.0                   8  53.273518   \n",
       "2981  12428358   149        2.0   3.0                   9  53.310073   \n",
       "\n",
       "      longitude     price  property_category  property_type  \n",
       "2977  -6.237199  415000.0                  0              3  \n",
       "2978  -6.294268  485000.0                  0              4  \n",
       "2979  -6.276856  299000.0                  0              3  \n",
       "2980  -6.178500  495000.0                  0              8  \n",
       "2981  -6.325158  525000.0                  0              2  "
      ]
     },
     "execution_count": 31,
     "metadata": {},
     "output_type": "execute_result"
    }
   ],
   "source": [
    "df_train.tail(5)"
   ]
  },
  {
   "cell_type": "code",
   "execution_count": 32,
   "metadata": {
    "scrolled": true
   },
   "outputs": [
    {
     "data": {
      "text/html": [
       "<div>\n",
       "<style scoped>\n",
       "    .dataframe tbody tr th:only-of-type {\n",
       "        vertical-align: middle;\n",
       "    }\n",
       "\n",
       "    .dataframe tbody tr th {\n",
       "        vertical-align: top;\n",
       "    }\n",
       "\n",
       "    .dataframe thead th {\n",
       "        text-align: right;\n",
       "    }\n",
       "</style>\n",
       "<table border=\"1\" class=\"dataframe\">\n",
       "  <thead>\n",
       "    <tr style=\"text-align: right;\">\n",
       "      <th></th>\n",
       "      <th>ad_id</th>\n",
       "      <th>area</th>\n",
       "      <th>bathrooms</th>\n",
       "      <th>beds</th>\n",
       "      <th>ber_classification</th>\n",
       "      <th>latitude</th>\n",
       "      <th>longitude</th>\n",
       "      <th>property_category</th>\n",
       "      <th>property_type</th>\n",
       "      <th>surface</th>\n",
       "    </tr>\n",
       "  </thead>\n",
       "  <tbody>\n",
       "    <tr>\n",
       "      <th>495</th>\n",
       "      <td>12369815</td>\n",
       "      <td>98</td>\n",
       "      <td>1.0</td>\n",
       "      <td>2.0</td>\n",
       "      <td>0</td>\n",
       "      <td>53.342207</td>\n",
       "      <td>-6.226101</td>\n",
       "      <td>0</td>\n",
       "      <td>3</td>\n",
       "      <td>65.0</td>\n",
       "    </tr>\n",
       "    <tr>\n",
       "      <th>496</th>\n",
       "      <td>12416011</td>\n",
       "      <td>16</td>\n",
       "      <td>3.0</td>\n",
       "      <td>5.0</td>\n",
       "      <td>12</td>\n",
       "      <td>53.261475</td>\n",
       "      <td>-6.147720</td>\n",
       "      <td>0</td>\n",
       "      <td>1</td>\n",
       "      <td>191.3</td>\n",
       "    </tr>\n",
       "    <tr>\n",
       "      <th>497</th>\n",
       "      <td>12232222</td>\n",
       "      <td>0</td>\n",
       "      <td>1.0</td>\n",
       "      <td>3.0</td>\n",
       "      <td>4</td>\n",
       "      <td>53.391619</td>\n",
       "      <td>-6.205157</td>\n",
       "      <td>0</td>\n",
       "      <td>1</td>\n",
       "      <td>105.0</td>\n",
       "    </tr>\n",
       "    <tr>\n",
       "      <th>498</th>\n",
       "      <td>11905630</td>\n",
       "      <td>28</td>\n",
       "      <td>2.0</td>\n",
       "      <td>4.0</td>\n",
       "      <td>3</td>\n",
       "      <td>53.360578</td>\n",
       "      <td>-6.183701</td>\n",
       "      <td>0</td>\n",
       "      <td>8</td>\n",
       "      <td>130.0</td>\n",
       "    </tr>\n",
       "    <tr>\n",
       "      <th>499</th>\n",
       "      <td>12394865</td>\n",
       "      <td>39</td>\n",
       "      <td>2.0</td>\n",
       "      <td>2.0</td>\n",
       "      <td>5</td>\n",
       "      <td>53.366827</td>\n",
       "      <td>-6.248329</td>\n",
       "      <td>0</td>\n",
       "      <td>3</td>\n",
       "      <td>71.0</td>\n",
       "    </tr>\n",
       "  </tbody>\n",
       "</table>\n",
       "</div>"
      ],
      "text/plain": [
       "        ad_id  area  bathrooms  beds  ber_classification   latitude  \\\n",
       "495  12369815    98        1.0   2.0                   0  53.342207   \n",
       "496  12416011    16        3.0   5.0                  12  53.261475   \n",
       "497  12232222     0        1.0   3.0                   4  53.391619   \n",
       "498  11905630    28        2.0   4.0                   3  53.360578   \n",
       "499  12394865    39        2.0   2.0                   5  53.366827   \n",
       "\n",
       "     longitude property_category  property_type  surface  \n",
       "495  -6.226101                 0              3     65.0  \n",
       "496  -6.147720                 0              1    191.3  \n",
       "497  -6.205157                 0              1    105.0  \n",
       "498  -6.183701                 0              8    130.0  \n",
       "499  -6.248329                 0              3     71.0  "
      ]
     },
     "execution_count": 32,
     "metadata": {},
     "output_type": "execute_result"
    }
   ],
   "source": [
    "df_test.tail()"
   ]
  },
  {
   "cell_type": "markdown",
   "metadata": {
    "id": "LBPnOfRvRJbY"
   },
   "source": [
    "### 1.5 Outlier Treatment"
   ]
  },
  {
   "cell_type": "code",
   "execution_count": 33,
   "metadata": {
    "scrolled": true
   },
   "outputs": [
    {
     "data": {
      "image/png": "[encoded data removed]",
      "text/plain": [
       "<Figure size 2160x1800 with 10 Axes>"
      ]
     },
     "metadata": {
      "needs_background": "light"
     },
     "output_type": "display_data"
    },
    {
     "name": "stdout",
     "output_type": "stream",
     "text": [
      "(2892, 10)\n"
     ]
    }
   ],
   "source": [
    "#Select features to include in plots\n",
    "include_featues = ['beds','bathrooms', 'latitude', 'longitude', 'price']\n",
    "\n",
    "plot_box_hist(df_train, include_featues)\n",
    "print(df_train.shape)"
   ]
  },
  {
   "cell_type": "code",
   "execution_count": 34,
   "metadata": {
    "scrolled": true
   },
   "outputs": [
    {
     "name": "stdout",
     "output_type": "stream",
     "text": [
      "Plot after outliers have been removed\n"
     ]
    }
   ],
   "source": [
    "print(\"Plot after outliers have been removed\")\n",
    "for i in range(0, len(include_featues)): \n",
    "    df_train = remove_outliers(df_train,include_featues[i])\n",
    "\n",
    "    \n",
    "# Removing location that are outside of Ireland From Nigel Portley\n",
    "df_train['latitude'] = (df_train['latitude'] -51.45843)/2.173 \n",
    "df_test['latitude'] = (df_test['latitude'] -51.45843)/2.173 \n",
    "\n",
    "df_train['longitude'] = (df_train['longitude'] + 6.521187) \n",
    "df_test['longitude'] = (df_test['longitude'] + 6.521187)\n",
    "\n",
    "df_train['bathrooms'].values[df_train['bathrooms'].values > 7 ] = 7\n",
    "df_test['bathrooms'].values[df_test['bathrooms'].values > 7 ] = 7\n",
    "\n",
    "df_train['beds'].values[df_train['beds'].values > 10 ] = 10\n",
    "df_test['beds'].values[df_test['beds'].values > 10 ] = 10\n",
    "\n",
    "df_train.drop('ad_id', axis=1, inplace=True)\n",
    "df_test.drop('ad_id', axis=1, inplace=True)"
   ]
  },
  {
   "cell_type": "code",
   "execution_count": 35,
   "metadata": {},
   "outputs": [
    {
     "data": {
      "image/png": "[encoded data removed]",
      "text/plain": [
       "<Figure size 2160x1800 with 10 Axes>"
      ]
     },
     "metadata": {
      "needs_background": "light"
     },
     "output_type": "display_data"
    },
    {
     "name": "stdout",
     "output_type": "stream",
     "text": [
      "(2785, 9)\n"
     ]
    }
   ],
   "source": [
    "plot_box_hist(df_train, include_featues)\n",
    "print(df_train.shape)"
   ]
  },
  {
   "cell_type": "markdown",
   "metadata": {
    "id": "gGz_4YZYRrYD"
   },
   "source": [
    "## 2. Price Data\n",
    "\n",
    "We examine Price dataset from *true_price.csv*"
   ]
  },
  {
   "cell_type": "markdown",
   "metadata": {
    "id": "YlnuLayTTYjP"
   },
   "source": [
    "### 1.1 Variable Identification"
   ]
  },
  {
   "cell_type": "code",
   "execution_count": 36,
   "metadata": {
    "id": "6y-PG-u5Ti4I",
    "scrolled": true
   },
   "outputs": [
    {
     "name": "stdout",
     "output_type": "stream",
     "text": [
      "Shape of House Pricing Data :  (500, 2)\n",
      "Cost Data Columns Index(['Id', 'Expected'], dtype='object')\n",
      "<class 'pandas.core.frame.DataFrame'>\n",
      "RangeIndex: 500 entries, 0 to 499\n",
      "Data columns (total 2 columns):\n",
      "Id          500 non-null int64\n",
      "Expected    500 non-null float64\n",
      "dtypes: float64(1), int64(1)\n",
      "memory usage: 7.9 KB\n",
      "None\n"
     ]
    },
    {
     "data": {
      "text/html": [
       "<div>\n",
       "<style scoped>\n",
       "    .dataframe tbody tr th:only-of-type {\n",
       "        vertical-align: middle;\n",
       "    }\n",
       "\n",
       "    .dataframe tbody tr th {\n",
       "        vertical-align: top;\n",
       "    }\n",
       "\n",
       "    .dataframe thead th {\n",
       "        text-align: right;\n",
       "    }\n",
       "</style>\n",
       "<table border=\"1\" class=\"dataframe\">\n",
       "  <thead>\n",
       "    <tr style=\"text-align: right;\">\n",
       "      <th></th>\n",
       "      <th>Id</th>\n",
       "      <th>Expected</th>\n",
       "    </tr>\n",
       "  </thead>\n",
       "  <tbody>\n",
       "    <tr>\n",
       "      <th>0</th>\n",
       "      <td>12373510</td>\n",
       "      <td>875000.0</td>\n",
       "    </tr>\n",
       "    <tr>\n",
       "      <th>1</th>\n",
       "      <td>12422623</td>\n",
       "      <td>355000.0</td>\n",
       "    </tr>\n",
       "    <tr>\n",
       "      <th>2</th>\n",
       "      <td>12377408</td>\n",
       "      <td>440000.0</td>\n",
       "    </tr>\n",
       "    <tr>\n",
       "      <th>3</th>\n",
       "      <td>12420093</td>\n",
       "      <td>425000.0</td>\n",
       "    </tr>\n",
       "    <tr>\n",
       "      <th>4</th>\n",
       "      <td>12417338</td>\n",
       "      <td>265000.0</td>\n",
       "    </tr>\n",
       "  </tbody>\n",
       "</table>\n",
       "</div>"
      ],
      "text/plain": [
       "         Id  Expected\n",
       "0  12373510  875000.0\n",
       "1  12422623  355000.0\n",
       "2  12377408  440000.0\n",
       "3  12420093  425000.0\n",
       "4  12417338  265000.0"
      ]
     },
     "execution_count": 36,
     "metadata": {},
     "output_type": "execute_result"
    }
   ],
   "source": [
    "print('Shape of House Pricing Data : ', df_cost.shape)\n",
    "\n",
    "print('Cost Data Columns',df_cost.columns)\n",
    "\n",
    "print(df_cost.info())\n",
    "\n",
    "df_cost.head(5)"
   ]
  },
  {
   "cell_type": "markdown",
   "metadata": {
    "id": "yvxjo0r6TT6s"
   },
   "source": [
    "### 1.2 Univariate Analysis"
   ]
  },
  {
   "cell_type": "code",
   "execution_count": 37,
   "metadata": {
    "colab": {
     "base_uri": "https://localhost:8080/",
     "height": 297
    },
    "id": "SQ2nhJBLaX-C",
    "outputId": "899a2332-a830-4d17-a71c-b07038d935af",
    "scrolled": true
   },
   "outputs": [
    {
     "data": {
      "text/html": [
       "<div>\n",
       "<style scoped>\n",
       "    .dataframe tbody tr th:only-of-type {\n",
       "        vertical-align: middle;\n",
       "    }\n",
       "\n",
       "    .dataframe tbody tr th {\n",
       "        vertical-align: top;\n",
       "    }\n",
       "\n",
       "    .dataframe thead th {\n",
       "        text-align: right;\n",
       "    }\n",
       "</style>\n",
       "<table border=\"1\" class=\"dataframe\">\n",
       "  <thead>\n",
       "    <tr style=\"text-align: right;\">\n",
       "      <th></th>\n",
       "      <th>Id</th>\n",
       "      <th>Expected</th>\n",
       "    </tr>\n",
       "  </thead>\n",
       "  <tbody>\n",
       "    <tr>\n",
       "      <th>count</th>\n",
       "      <td>5.000000e+02</td>\n",
       "      <td>5.000000e+02</td>\n",
       "    </tr>\n",
       "    <tr>\n",
       "      <th>mean</th>\n",
       "      <td>1.231695e+07</td>\n",
       "      <td>5.810356e+05</td>\n",
       "    </tr>\n",
       "    <tr>\n",
       "      <th>std</th>\n",
       "      <td>1.485832e+05</td>\n",
       "      <td>6.009194e+05</td>\n",
       "    </tr>\n",
       "    <tr>\n",
       "      <th>min</th>\n",
       "      <td>1.130615e+07</td>\n",
       "      <td>8.500000e+04</td>\n",
       "    </tr>\n",
       "    <tr>\n",
       "      <th>25%</th>\n",
       "      <td>1.228617e+07</td>\n",
       "      <td>2.950000e+05</td>\n",
       "    </tr>\n",
       "    <tr>\n",
       "      <th>50%</th>\n",
       "      <td>1.237964e+07</td>\n",
       "      <td>4.250000e+05</td>\n",
       "    </tr>\n",
       "    <tr>\n",
       "      <th>75%</th>\n",
       "      <td>1.240544e+07</td>\n",
       "      <td>5.950000e+05</td>\n",
       "    </tr>\n",
       "    <tr>\n",
       "      <th>max</th>\n",
       "      <td>1.242809e+07</td>\n",
       "      <td>5.750000e+06</td>\n",
       "    </tr>\n",
       "  </tbody>\n",
       "</table>\n",
       "</div>"
      ],
      "text/plain": [
       "                 Id      Expected\n",
       "count  5.000000e+02  5.000000e+02\n",
       "mean   1.231695e+07  5.810356e+05\n",
       "std    1.485832e+05  6.009194e+05\n",
       "min    1.130615e+07  8.500000e+04\n",
       "25%    1.228617e+07  2.950000e+05\n",
       "50%    1.237964e+07  4.250000e+05\n",
       "75%    1.240544e+07  5.950000e+05\n",
       "max    1.242809e+07  5.750000e+06"
      ]
     },
     "execution_count": 37,
     "metadata": {},
     "output_type": "execute_result"
    }
   ],
   "source": [
    "df_cost.describe()"
   ]
  },
  {
   "cell_type": "markdown",
   "metadata": {
    "id": "9IrnBtWKTRQ-"
   },
   "source": [
    "### 1.3 Multi Variate Analysis"
   ]
  },
  {
   "cell_type": "markdown",
   "metadata": {
    "id": "-XlLd5FFTJPp"
   },
   "source": [
    "### 1.4 Missing Value Treatment"
   ]
  },
  {
   "cell_type": "code",
   "execution_count": 38,
   "metadata": {
    "colab": {
     "base_uri": "https://localhost:8080/"
    },
    "id": "KqnaYAduW8jf",
    "outputId": "a3850315-f33f-42cd-c6ea-f6258935db9a",
    "scrolled": true
   },
   "outputs": [
    {
     "name": "stdout",
     "output_type": "stream",
     "text": [
      "Test House Pricing Missing Values\n",
      "Id          0\n",
      "Expected    0\n",
      "dtype: int64\n"
     ]
    }
   ],
   "source": [
    "print('Test House Pricing Missing Values')\n",
    "print(df_cost.isna().sum())"
   ]
  },
  {
   "cell_type": "markdown",
   "metadata": {
    "id": "38cKJLQeTGn9"
   },
   "source": [
    "### 1.5 Outlier Treatment"
   ]
  },
  {
   "cell_type": "code",
   "execution_count": 39,
   "metadata": {
    "scrolled": true
   },
   "outputs": [],
   "source": [
    "df_cost.drop('Id', axis=1, inplace=True)"
   ]
  },
  {
   "cell_type": "markdown",
   "metadata": {},
   "source": [
    "***\n"
   ]
  },
  {
   "cell_type": "code",
   "execution_count": 40,
   "metadata": {
    "id": "S-3BS96FADJT",
    "scrolled": true
   },
   "outputs": [],
   "source": [
    "# print(df_train_p.select_dtypes(exclude=['object']).isna().sum())"
   ]
  },
  {
   "cell_type": "code",
   "execution_count": 41,
   "metadata": {},
   "outputs": [
    {
     "name": "stdout",
     "output_type": "stream",
     "text": [
      "area                  0\n",
      "bathrooms             0\n",
      "beds                  0\n",
      "ber_classification    0\n",
      "latitude              0\n",
      "longitude             0\n",
      "price                 0\n",
      "property_category     0\n",
      "property_type         0\n",
      "dtype: int64\n"
     ]
    },
    {
     "data": {
      "text/plain": [
       "area                  0.0\n",
       "bathrooms             0.0\n",
       "beds                  0.0\n",
       "ber_classification    0.0\n",
       "latitude              0.0\n",
       "longitude             0.0\n",
       "price                 0.0\n",
       "property_category     0.0\n",
       "property_type         0.0\n",
       "dtype: float64"
      ]
     },
     "execution_count": 41,
     "metadata": {},
     "output_type": "execute_result"
    }
   ],
   "source": [
    "print(df_train.isna().sum())\n",
    "df_train.isna().sum()*100/len(df_train)"
   ]
  },
  {
   "cell_type": "code",
   "execution_count": 42,
   "metadata": {},
   "outputs": [
    {
     "name": "stdout",
     "output_type": "stream",
     "text": [
      "area                  0\n",
      "bathrooms             0\n",
      "beds                  0\n",
      "ber_classification    0\n",
      "latitude              0\n",
      "longitude             0\n",
      "property_category     0\n",
      "property_type         0\n",
      "surface               0\n",
      "dtype: int64\n"
     ]
    },
    {
     "data": {
      "text/plain": [
       "area                  0.0\n",
       "bathrooms             0.0\n",
       "beds                  0.0\n",
       "ber_classification    0.0\n",
       "latitude              0.0\n",
       "longitude             0.0\n",
       "property_category     0.0\n",
       "property_type         0.0\n",
       "surface               0.0\n",
       "dtype: float64"
      ]
     },
     "execution_count": 42,
     "metadata": {},
     "output_type": "execute_result"
    }
   ],
   "source": [
    "print(df_test.isna().sum())\n",
    "df_test.isna().sum()*100/len(df_test)"
   ]
  },
  {
   "cell_type": "markdown",
   "metadata": {},
   "source": [
    "***"
   ]
  },
  {
   "cell_type": "markdown",
   "metadata": {
    "id": "2PMoPLlUJ1Ly"
   },
   "source": [
    "# Training & Test Data"
   ]
  },
  {
   "cell_type": "markdown",
   "metadata": {},
   "source": [
    "## Train Dataset"
   ]
  },
  {
   "cell_type": "code",
   "execution_count": 43,
   "metadata": {
    "scrolled": true
   },
   "outputs": [
    {
     "data": {
      "text/plain": [
       "(2785, 9)"
      ]
     },
     "execution_count": 43,
     "metadata": {},
     "output_type": "execute_result"
    }
   ],
   "source": [
    "df_train.shape"
   ]
  },
  {
   "cell_type": "code",
   "execution_count": null,
   "metadata": {
    "scrolled": true
   },
   "outputs": [],
   "source": [
    "df_train.describe()"
   ]
  },
  {
   "cell_type": "code",
   "execution_count": null,
   "metadata": {
    "scrolled": true
   },
   "outputs": [],
   "source": [
    "df_train.sample(3)"
   ]
  },
  {
   "cell_type": "markdown",
   "metadata": {},
   "source": [
    "## Test Dataset"
   ]
  },
  {
   "cell_type": "code",
   "execution_count": 44,
   "metadata": {
    "scrolled": true
   },
   "outputs": [
    {
     "data": {
      "text/plain": [
       "(500, 9)"
      ]
     },
     "execution_count": 44,
     "metadata": {},
     "output_type": "execute_result"
    }
   ],
   "source": [
    "df_test.shape"
   ]
  },
  {
   "cell_type": "code",
   "execution_count": null,
   "metadata": {
    "scrolled": true
   },
   "outputs": [],
   "source": [
    "df_test.describe()"
   ]
  },
  {
   "cell_type": "code",
   "execution_count": null,
   "metadata": {
    "scrolled": true
   },
   "outputs": [],
   "source": [
    "df_test.sample(3)"
   ]
  },
  {
   "cell_type": "markdown",
   "metadata": {},
   "source": [
    "## Expected Cost dataset"
   ]
  },
  {
   "cell_type": "code",
   "execution_count": null,
   "metadata": {
    "scrolled": true
   },
   "outputs": [],
   "source": [
    "df_cost.shape"
   ]
  },
  {
   "cell_type": "code",
   "execution_count": null,
   "metadata": {
    "scrolled": true
   },
   "outputs": [],
   "source": [
    "df_cost.describe()"
   ]
  },
  {
   "cell_type": "code",
   "execution_count": null,
   "metadata": {
    "scrolled": true
   },
   "outputs": [],
   "source": [
    "df_cost.sample(4)"
   ]
  },
  {
   "cell_type": "markdown",
   "metadata": {
    "id": "UjMH1CSEUA1A"
   },
   "source": [
    "***\n"
   ]
  },
  {
   "cell_type": "markdown",
   "metadata": {
    "id": "bJFJQxAS9HZK"
   },
   "source": [
    "# PIECEWISE REGRESSION"
   ]
  },
  {
   "cell_type": "code",
   "execution_count": 45,
   "metadata": {
    "scrolled": true
   },
   "outputs": [],
   "source": [
    "# Feature selection using XGBoost[1]\n",
    "from xgboost import XGBClassifier\n",
    "from xgboost import plot_importance\n",
    "\n",
    "#Remove Property ID\n",
    "df_train_final = df_train.copy()\n",
    "\n",
    "# For train/test split\n",
    "X = df_train_final.drop('price',axis=1)\n",
    "y = df_train_final['price']"
   ]
  },
  {
   "cell_type": "code",
   "execution_count": 46,
   "metadata": {
    "scrolled": true
   },
   "outputs": [],
   "source": [
    "X_train,X_test,y_train,y_test = train_test_split(X, y, test_size=0.3)"
   ]
  },
  {
   "cell_type": "code",
   "execution_count": null,
   "metadata": {
    "scrolled": true
   },
   "outputs": [],
   "source": [
    "fi_Model = XGBClassifier()\n",
    "fi_Model.fit(X_train, y_train)\n",
    "plt.rcParams[\"figure.figsize\"] = (28, 14)\n",
    "plot_importance(fi_Model)\n",
    "plt.show();"
   ]
  },
  {
   "cell_type": "markdown",
   "metadata": {
    "id": "uQ_1QsLToIDi"
   },
   "source": [
    "## Full Model"
   ]
  },
  {
   "cell_type": "code",
   "execution_count": null,
   "metadata": {
    "id": "Yv5j1KzzMUnm",
    "scrolled": true
   },
   "outputs": [],
   "source": [
    "# select some features columns just for the baseline model\n",
    "# assume not all of the features are informative or useful\n",
    "# in this exercise you could try all of them if possible\n",
    "\n",
    "featrain = ['latitude','longitude','ber_classification', 'beds', 'bathrooms', 'price']\n",
    "# dropna: remove missing values\n",
    "df_subset_train = df_train[featrain].dropna(axis=0)\n",
    "\n",
    "featest = ['latitude','longitude', 'surface','ber_classification', 'beds', 'bathrooms']\n",
    "df_subset_test  =  df_test[featest].dropna(axis=0)\n",
    "\n",
    "# cost\n",
    "df_cost = df_cost[df_cost.index.isin(df_subset_test.index)]"
   ]
  },
  {
   "cell_type": "code",
   "execution_count": null,
   "metadata": {
    "scrolled": true
   },
   "outputs": [],
   "source": [
    "print('Number of nan in df_subset_train dataset: ',X_train.isnull().sum().sum())\n",
    "print('Number of nan in df_subset_test dataset: ',X_test.isnull().sum().sum())"
   ]
  },
  {
   "cell_type": "code",
   "execution_count": null,
   "metadata": {
    "scrolled": true
   },
   "outputs": [],
   "source": [
    "# train set, input columns\n",
    "Xs_train = df_subset_train.iloc[:,0:-1].values \n",
    "# train set, output column, cost\n",
    "ys_train = df_subset_train.iloc[:,-1].values.reshape(-1,1)   \n",
    "\n",
    "# test set, input columns\n",
    "Xs_test = df_subset_test.iloc[:,0:].values \n",
    "# test set, output column, cost\n",
    "y_test = df_cost.Expected.values"
   ]
  },
  {
   "cell_type": "code",
   "execution_count": null,
   "metadata": {},
   "outputs": [],
   "source": [
    "Xs_train.shape"
   ]
  },
  {
   "cell_type": "code",
   "execution_count": null,
   "metadata": {},
   "outputs": [],
   "source": [
    "# StandardScaler() will normalize the features i.e. each column of X, \n",
    "# so, each column/feature/variable will have μ = 0 and σ = 1\n",
    "sc = StandardScaler()\n",
    "\n",
    "Xss_train = np.hstack([Xs_train,Xs_train[:,[2]]**2])\n",
    "xscaler = sc.fit(Xss_train)\n",
    "Xn_train = xscaler.transform(Xss_train)\n",
    "\n",
    "Xss_test = np.hstack([Xs_test,Xs_test[:,[2]]**2])\n",
    "Xn_test = xscaler.transform(Xss_test)\n",
    "\n",
    "ylog = np.log(ys_train.astype('float'))\n",
    "yscaler = StandardScaler().fit(ylog)\n",
    "yn_train = yscaler.transform(ylog)"
   ]
  },
  {
   "cell_type": "code",
   "execution_count": null,
   "metadata": {
    "id": "PZK2kfygoIDi",
    "scrolled": true
   },
   "outputs": [],
   "source": [
    "# model\n",
    "with pm.Model() as model:\n",
    "    #prior over the parameters of linear regression\n",
    "    alpha = pm.Normal('alpha', mu=0, sigma=30)\n",
    "    #we have one beta for each column of Xn\n",
    "    beta = pm.Normal('beta', mu=0, sigma=30, shape=Xn_train.shape[1])\n",
    "    #prior over the variance of the noise\n",
    "    sigma = pm.HalfCauchy('sigma_n', 5)\n",
    "    #linear regression model in matrix form\n",
    "    mu = alpha + pm.math.dot(beta, Xn_train.T)\n",
    "    #likelihood, be sure that observed is a 1d vector\n",
    "    like = pm.Normal('like', mu=mu, sigma=sigma, observed=yn_train[:,0])\n",
    "    "
   ]
  },
  {
   "cell_type": "code",
   "execution_count": null,
   "metadata": {
    "id": "yeOmUzRmLh42",
    "scrolled": true
   },
   "outputs": [],
   "source": [
    "#number of iterations of the algorithms\n",
    "iter = 50000 \n",
    "\n",
    "# run the model\n",
    "with model:\n",
    "    approximation = pm.fit(iter,method='advi')\n",
    "    \n",
    "# check the convergence\n",
    "plt.plot(approximation.hist);"
   ]
  },
  {
   "cell_type": "code",
   "execution_count": null,
   "metadata": {
    "id": "mc0mxQJRLqNn",
    "scrolled": true
   },
   "outputs": [],
   "source": [
    "# samples from the posterior\n",
    "posterior = approximation.sample(5000)"
   ]
  },
  {
   "cell_type": "code",
   "execution_count": null,
   "metadata": {
    "id": "cIskuS3ToIDk",
    "scrolled": true
   },
   "outputs": [],
   "source": [
    "# prediction\n",
    "ll=np.mean(posterior['alpha']) + np.dot(np.mean(posterior['beta'],axis=0), Xn_test.T)\n",
    "y_pred_BLR = np.exp(yscaler.inverse_transform(ll.reshape(-1,1)))[:,0]\n",
    "print(\"MAE = \",(np.mean(abs(y_pred_BLR - y_test))))\n",
    "print(\"MAPE = \",(np.mean(abs(y_pred_BLR - y_test) / y_test)))"
   ]
  },
  {
   "cell_type": "markdown",
   "metadata": {
    "id": "q_jBBKvtoIDk"
   },
   "source": [
    "## Clustering"
   ]
  },
  {
   "cell_type": "markdown",
   "metadata": {
    "id": "VYFvbgYDaEOS"
   },
   "source": [
    "### Full Model"
   ]
  },
  {
   "cell_type": "code",
   "execution_count": null,
   "metadata": {
    "id": "iphQ53UE0iVw",
    "scrolled": true
   },
   "outputs": [],
   "source": [
    "# training gaussian mixture model \n",
    "from sklearn.mixture import GaussianMixture\n",
    "\n",
    "gmm = GaussianMixture(n_components=4)\n"
   ]
  },
  {
   "cell_type": "markdown",
   "metadata": {
    "id": "h51OhBV5Z4tY"
   },
   "source": [
    "### Clusters"
   ]
  },
  {
   "cell_type": "code",
   "execution_count": null,
   "metadata": {
    "id": "vNvx_KxrLt90",
    "scrolled": true
   },
   "outputs": [],
   "source": [
    "# train clusters\n",
    "\n"
   ]
  },
  {
   "cell_type": "code",
   "execution_count": null,
   "metadata": {
    "id": "-wTT4220zFNx",
    "scrolled": true
   },
   "outputs": [],
   "source": [
    "# test clusters\n"
   ]
  },
  {
   "cell_type": "markdown",
   "metadata": {
    "id": "dXF25ZDYoIDl"
   },
   "source": [
    "## Piecewise Model"
   ]
  },
  {
   "cell_type": "code",
   "execution_count": null,
   "metadata": {
    "id": "N1e-4ruvaJci",
    "scrolled": true
   },
   "outputs": [],
   "source": [
    "# model_0\n",
    "with pm.Model() as model_0:\n",
    "    # prior over the parameters of linear regression\n",
    "    alpha = pm.Normal('alpha', mu=0, sigma=30)\n",
    "    # we have a beta for each column of Xn0\n",
    "    beta = pm.Normal('beta', mu=0, sigma=30, shape=Xn0.shape[1])\n",
    "    # prior over the variance of the noise\n",
    "    sigma = pm.HalfCauchy('sigma_n', 5)\n",
    "    # linear regression relationship\n",
    "    #linear regression model in matrix form\n",
    "    mu = alpha + pm.math.dot(beta, Xn0.T)\n",
    "    # likelihood, be sure that observed is a 1d vector\n",
    "    like = pm.Normal('like', mu=mu, sigma=sigma, observed=yn0[:,0])"
   ]
  },
  {
   "cell_type": "markdown",
   "metadata": {
    "id": "wHBgUe1pcZQQ"
   },
   "source": [
    "##Simulations"
   ]
  },
  {
   "cell_type": "markdown",
   "metadata": {
    "id": "bfSEdYAUoIDn"
   },
   "source": [
    "### Only Cluster 0"
   ]
  },
  {
   "cell_type": "markdown",
   "metadata": {
    "id": "qgMUwBO7oIDq"
   },
   "source": [
    "## Overall"
   ]
  },
  {
   "cell_type": "markdown",
   "metadata": {
    "id": "QMY9rDvVoIDq"
   },
   "source": [
    "## Test set performance"
   ]
  },
  {
   "cell_type": "markdown",
   "metadata": {
    "id": "YGmB9BNkoIDr"
   },
   "source": [
    "### PPC on the Test set\n",
    "\n"
   ]
  },
  {
   "cell_type": "markdown",
   "metadata": {
    "id": "f0GYCpwEM09T"
   },
   "source": [
    "# SUMMARY\n",
    "\n",
    "## References"
   ]
  },
  {
   "cell_type": "markdown",
   "metadata": {},
   "source": [
    "### Observations\n",
    "* **House Data** (house_train.csv, house_test.csv):  Describes Different attributes that determines house price\n",
    "* **Price Data** (true_price.csv): Real cost of the houses\n",
    "* True Price has 500 rows x 2 cols and no missing values. Id column dropped \n",
    "* Training Data has 2982 rows x 17 cols. Abundant missing values. Have been dealt with in EDA section. 9 Categorical and 8 numerical attributes.\n",
    "* Test Data has 500 rows x 16 cols. Has missing values. Have been dealt with in EDA section.\n",
    "* Some categorical  attributes were kept ( after converting to numerical values) in the final dataset "
   ]
  },
  {
   "cell_type": "markdown",
   "metadata": {},
   "source": [
    "### Numerical Atributes\n",
    "* `no_of_units` dropped as it has huge missing values in both datasets.\n",
    "* \n",
    "* `price` had missing values, was dropped. \n",
    "* `latitude` and `longitude` had no missing values. The outliers were removed following Nigel Portley's procedure."
   ]
  },
  {
   "cell_type": "markdown",
   "metadata": {},
   "source": [
    "### Categorical Attributes\n",
    "* `area` : encoded with a single numerical value. It is clean and efficient replacement. But I wonder if it will affect the final model. Maybe using get_Dummies is another way. \n",
    "* `county` and `environment` had Dublin and Prod as values. They will not be that much information and were dropped.\n",
    "* `ber_classification` encoded with a numerical value \n",
    "* Columns with desctiptive text  as `description_block`, `facility` & `features` were dropped.\n",
    "* `property_category` & `property_type` were encoded into numerical  values. "
   ]
  },
  {
   "cell_type": "markdown",
   "metadata": {},
   "source": [
    "A lot of time was consumed in Analysing and processing of data. The EDA phase. As mentioned above various columns were dropped for being redundant in nature or missing values. A number of categorical attributes were also encoded.  Outliers were also removed. But taking different strategies. \n",
    "\n",
    "After EDA part ( the pre-processing) the new shape of train data and test data  was 2785x9 and 500x9 respectively."
   ]
  },
  {
   "cell_type": "markdown",
   "metadata": {
    "id": "IZxsyb5D1NdW"
   },
   "source": [
    "## Bibliography\n",
    "\n",
    "Setia, M., 2020. Exploratory Data Analysis : The Tool Understand Your Data. [online] Analytics Vidhya. Available at: <https://www.analyticsvidhya.com/blog/2020/10/the-clever-ingredient-that-decide-the-rise-and-the-fall-of-your-machine-learning-model-exploratory-data-analysis/>.\n",
    "\n"
   ]
  }
 ],
 "metadata": {
  "colab": {
   "collapsed_sections": [],
   "name": "ET5003_Etivity2_Rana_Das_19137338.ipynb",
   "provenance": []
  },
  "kernelspec": {
   "display_name": "Python 3",
   "language": "python",
   "name": "python3"
  },
  "language_info": {
   "codemirror_mode": {
    "name": "ipython",
    "version": 3
   },
   "file_extension": ".py",
   "mimetype": "text/x-python",
   "name": "python",
   "nbconvert_exporter": "python",
   "pygments_lexer": "ipython3",
   "version": "3.7.3"
  }
 },
 "nbformat": 4,
 "nbformat_minor": 1
}
